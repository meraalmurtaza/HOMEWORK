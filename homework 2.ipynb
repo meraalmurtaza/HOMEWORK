{
 "cells": [
  {
   "cell_type": "code",
   "execution_count": 1,
   "id": "c3456be3-5dbd-4a06-bea2-16ed299d82b7",
   "metadata": {},
   "outputs": [],
   "source": [
    "text = \"hello python world\"\n"
   ]
  },
  {
   "cell_type": "code",
   "execution_count": 2,
   "id": "3072ebb0-af5c-44e9-b124-56ca2699d1b5",
   "metadata": {},
   "outputs": [
    {
     "data": {
      "text/plain": [
       "'hello_python_world'"
      ]
     },
     "execution_count": 2,
     "metadata": {},
     "output_type": "execute_result"
    }
   ],
   "source": [
    "text.replace(\" \",\"_\")"
   ]
  },
  {
   "cell_type": "code",
   "execution_count": 3,
   "id": "07349bde-b946-449f-9b8d-df48ce18609c",
   "metadata": {},
   "outputs": [
    {
     "data": {
      "text/plain": [
       "['hello python world']"
      ]
     },
     "execution_count": 3,
     "metadata": {},
     "output_type": "execute_result"
    }
   ],
   "source": [
    "text.split(\"_\")"
   ]
  },
  {
   "cell_type": "code",
   "execution_count": 4,
   "id": "fe6a97a2-c62b-4dd2-9ef7-2b0f9739ed97",
   "metadata": {},
   "outputs": [
    {
     "name": "stdout",
     "output_type": "stream",
     "text": [
      "hello-python-world\n"
     ]
    }
   ],
   "source": [
    "words = ['hello', 'python', 'world']\n",
    "result = \"-\".join(words)\n",
    "print(result)  # Output: hello-python-world\n"
   ]
  },
  {
   "cell_type": "code",
   "execution_count": 5,
   "id": "29bfed99-8db3-4a2b-9c66-b7a219717748",
   "metadata": {},
   "outputs": [
    {
     "data": {
      "text/plain": [
       "'hello-python-world'"
      ]
     },
     "execution_count": 5,
     "metadata": {},
     "output_type": "execute_result"
    }
   ],
   "source": [
    "text = ['hello' , 'python' , 'world']\n",
    "\"-\".join(text)"
   ]
  },
  {
   "cell_type": "code",
   "execution_count": 6,
   "id": "a73ead54-6c2e-431f-b03b-766b3e4f9c41",
   "metadata": {},
   "outputs": [],
   "source": [
    "word = \"javascript\""
   ]
  },
  {
   "cell_type": "code",
   "execution_count": 7,
   "id": "d8b59a93-3eab-4de6-bb97-e3d60e58ce8b",
   "metadata": {},
   "outputs": [
    {
     "data": {
      "text/plain": [
       "True"
      ]
     },
     "execution_count": 7,
     "metadata": {},
     "output_type": "execute_result"
    }
   ],
   "source": [
    "# Check if the length is greater than 5\n",
    "# len(word) counts the number of characters in the string.\n",
    "\n",
    "len(word) > 5 "
   ]
  },
  {
   "cell_type": "code",
   "execution_count": 8,
   "id": "42b86ff4-1844-4ff4-83e4-74e758332772",
   "metadata": {},
   "outputs": [],
   "source": [
    "#num2 % 2 == 0 → checks if it's even.\n",
    "\n",
    "#num2 > 10 → checks if it’s bigger than 10.\n",
    "\n",
    "#and → means both conditions must be true.\n",
    "num2=12\n"
   ]
  },
  {
   "cell_type": "code",
   "execution_count": 9,
   "id": "b520f619-22b7-46c2-9f89-e3a948d2b2c7",
   "metadata": {},
   "outputs": [
    {
     "name": "stdout",
     "output_type": "stream",
     "text": [
      "Is the number even? True\n"
     ]
    }
   ],
   "source": [
    "\n",
    "\n",
    "is_even = num2 % 2 == 0\n",
    "print(\"Is the number even?\", is_even)\n"
   ]
  },
  {
   "cell_type": "code",
   "execution_count": 14,
   "id": "85a2c41f-e2a7-40e8-ba1b-170574ea1b67",
   "metadata": {},
   "outputs": [
    {
     "ename": "NameError",
     "evalue": "name 'is_greater_than_10' is not defined",
     "output_type": "error",
     "traceback": [
      "\u001b[1;31m---------------------------------------------------------------------------\u001b[0m",
      "\u001b[1;31mNameError\u001b[0m                                 Traceback (most recent call last)",
      "Cell \u001b[1;32mIn[14], line 2\u001b[0m\n\u001b[0;32m      1\u001b[0m is_num2_greater_than_10 \u001b[38;5;241m=\u001b[39m num2 \u001b[38;5;241m>\u001b[39m \u001b[38;5;241m10\u001b[39m\n\u001b[1;32m----> 2\u001b[0m \u001b[38;5;28mprint\u001b[39m (\u001b[38;5;124m\"\u001b[39m\u001b[38;5;124mis  num2 greater than 10?\u001b[39m\u001b[38;5;124m\"\u001b[39m, is_greater_than_10)\n",
      "\u001b[1;31mNameError\u001b[0m: name 'is_greater_than_10' is not defined"
     ]
    }
   ],
   "source": [
    "\n",
    "is_num2_greater_than_10 = num2 > 10\n",
    "print (\"is the num2 greater than 10?\", is_greater_than_10)"
   ]
  },
  {
   "cell_type": "code",
   "execution_count": null,
   "id": "e896bbc8-16c8-4f19-a616-8af7c5a76637",
   "metadata": {},
   "outputs": [],
   "source": [
    "num3 = 3\n"
   ]
  },
  {
   "cell_type": "code",
   "execution_count": null,
   "id": "3fbb354d-bf5e-402b-9101-e27d88f4278c",
   "metadata": {},
   "outputs": [],
   "source": [
    "is_even = num3 % 2==0\n",
    "print(\"is the number even?\", is_even)"
   ]
  },
  {
   "cell_type": "code",
   "execution_count": null,
   "id": "a08e8c6f-592a-4af9-93c5-5b39450442bf",
   "metadata": {},
   "outputs": [],
   "source": [
    "result= (num3<5) or (num3>20)\n",
    "#or → means only one of them needs to be true\n",
    "\n",
    "\n",
    "print(result)"
   ]
  },
  {
   "cell_type": "code",
   "execution_count": null,
   "id": "65bdd4d3-1837-414c-b7d5-cc3a0c025723",
   "metadata": {},
   "outputs": [],
   "source": [
    "#between 18 to 65 has id \n",
    "age=25\n",
    "has_id = True \n",
    "is_eligible=(age >= 18 or age<=65) and has_id\n",
    "print(\"is the person eligible\", is_eligible)\n",
    "\n"
   ]
  },
  {
   "cell_type": "code",
   "execution_count": null,
   "id": "e9b0861b-c184-4def-83ca-9e88c43a5403",
   "metadata": {},
   "outputs": [],
   "source": [
    "age = 19\n",
    "has_id = True\n",
    "\n",
    "# Check if the person is NOT eligible\n",
    "is_not_eligible = not (age >= 18 and age <= 65 and has_id)\n",
    "\n",
    "print(\"Is the person not eligible?\", is_not_eligible)\n"
   ]
  },
  {
   "cell_type": "code",
   "execution_count": null,
   "id": "fe6228c1-05c6-48e6-abc1-e1128aeb850c",
   "metadata": {},
   "outputs": [],
   "source": [
    "#startswith(\"http://\") checks if the URL begins with http://\n",
    "\n",
    "#startswith(\"https://\") checks if the URL begins with https://\n",
    "\n",
    "#or means either condition can be true.\n",
    "\n",
    "\n"
   ]
  },
  {
   "cell_type": "code",
   "execution_count": null,
   "id": "92ccbba1-2611-4eb2-b523-74827557b44a",
   "metadata": {},
   "outputs": [],
   "source": [
    "url = \"https://www.example.com\"\n",
    "\n",
    "is_valid_url = url.startswith(\"http://\") or url.startswith(\"https://\")\n",
    "print(\"url is valid\", is_valid_url)\n"
   ]
  },
  {
   "cell_type": "code",
   "execution_count": null,
   "id": "ca7fa475-9f5f-4d0e-9f53-e95833434c4f",
   "metadata": {},
   "outputs": [],
   "source": [
    "price= 100\n",
    "10% 100\n",
    "#price*0.1"
   ]
  },
  {
   "cell_type": "code",
   "execution_count": null,
   "id": "d3fa4b42-ee2f-4617-828b-73e6432cc704",
   "metadata": {},
   "outputs": [],
   "source": [
    "# price * 0.10 calculates 10% of the original price (which is 100 * 0.10 = 10).\n",
    "\n",
    "#price -= 10 subtracts the discount amount from the original price, updating the price variable with the new value\n",
    "price -=10\n",
    "print(\"price after discount\", price)"
   ]
  },
  {
   "cell_type": "code",
   "execution_count": null,
   "id": "8047f33e-7f8f-4c64-a624-76fe867ee8b6",
   "metadata": {},
   "outputs": [],
   "source": [
    "premium_customers = [\"alice@example.com\", \"charlie@example.com\", \"bob@example.com\"]\n",
    "basic_customers = [\"alex@example.com\", \"david@example.com\", \"chloe@example.com\"]\n",
    "\n",
    "email = \"alice@example.com\"\n",
    "\n",
    "# Check if email is in both lists\n",
    "is_in_both = email in premium_customers and email in basic_customers\n",
    "\n",
    "print(\"Is the customer in both lists?\", is_in_both)\n"
   ]
  },
  {
   "cell_type": "code",
   "execution_count": null,
   "id": "1eb4244b-87fe-4d34-bdbd-426fae03a372",
   "metadata": {},
   "outputs": [],
   "source": [
    "premium_customers = [\"alice@example.com\", \"charlie@example.com\", \"bob@example.com\"]\n",
    "basic_customers = [\"alex@example.com\", \"david@example.com\", \"chloe@example.com\",\"alice@example.com\"]\n",
    "\n",
    "email = \"alice@example.com\"\n",
    "\n",
    "# Check if email is in both lists\n",
    "is_in_both = email in premium_customers and email in basic_customers\n",
    "\n",
    "print(\"Is the customer in both lists?\", is_in_both)\n"
   ]
  },
  {
   "cell_type": "code",
   "execution_count": 12,
   "id": "db82992b-1a6a-4b62-898a-95abb39bf57e",
   "metadata": {},
   "outputs": [
    {
     "name": "stdin",
     "output_type": "stream",
     "text": [
      "meraal00000  \n"
     ]
    },
    {
     "name": "stdout",
     "output_type": "stream",
     "text": [
      "Has uppercase letter? False\n",
      "Has lowercase letter? False\n",
      "Has space? False\n",
      "Has special character? False\n"
     ]
    }
   ],
   "source": [
    "password = input(\"meraal00000 \")\n",
    "\n",
    "# Check different conditions\n",
    "has_upper = any(char.isupper() for char in password)\n",
    "has_lower = any(char.islower() for char in password)\n",
    "has_space = \" \" in password\n",
    "has_special = any(not char.isalnum() and char != \" \" for char in password)\n",
    "\n",
    "print(\"Has uppercase letter?\", has_upper)\n",
    "print(\"Has lowercase letter?\", has_lower)\n",
    "print(\"Has space?\", has_space)\n",
    "print(\"Has special character?\", has_special)\n"
   ]
  },
  {
   "cell_type": "code",
   "execution_count": 13,
   "id": "0592581d-f2d4-49d2-869a-5b6833559f61",
   "metadata": {},
   "outputs": [],
   "source": [
    "#.find(\"-\") → tells the position of the first -\n",
    "\n",
    "#.count(\"-\") → counts how many times - appears\n",
    "\n",
    "#product_code[4:-4] → slices the string to get just the middle number:\n",
    "\n",
    "#Skips the first 4 characters (\"SKU-\")\n",
    "\n",
    "#Also removes the last 4 (\"-XYZ\")\n",
    "\n"
   ]
  },
  {
   "cell_type": "code",
   "execution_count": 16,
   "id": "d0fe3a76-4ae3-4c66-8008-e80eaad98b48",
   "metadata": {},
   "outputs": [
    {
     "name": "stdout",
     "output_type": "stream",
     "text": [
      "Position of first dash: 3\n"
     ]
    }
   ],
   "source": [
    "product_code = \"SKU-12345-XYZ\"\n",
    "first_dash_pos = product_code.find(\"-\")\n",
    "print(\"Position of first dash:\", first_dash_pos)\n"
   ]
  },
  {
   "cell_type": "code",
   "execution_count": 17,
   "id": "397d03dd-5457-41dc-b346-11fd708b38e5",
   "metadata": {},
   "outputs": [
    {
     "name": "stdout",
     "output_type": "stream",
     "text": [
      "Number of dashes: 2\n"
     ]
    }
   ],
   "source": [
    "dash_count = product_code.count(\"-\")\n",
    "print(\"Number of dashes:\", dash_count)\n"
   ]
  },
  {
   "cell_type": "code",
   "execution_count": 18,
   "id": "3ee018f3-d8bd-4891-8f6c-de6dfcedf904",
   "metadata": {},
   "outputs": [
    {
     "name": "stdout",
     "output_type": "stream",
     "text": [
      "Numeric part: 12345\n"
     ]
    }
   ],
   "source": [
    "# Remove \"SKU-\" from the start and \"-XYZ\" from the end , 4 means skip first 4 sku-and -4 means the last 4 -xyz\n",
    "numeric_part = product_code[4:-4]\n",
    "print(\"Numeric part:\", numeric_part)\n"
   ]
  },
  {
   "cell_type": "code",
   "execution_count": null,
   "id": "f7aac93b-1166-4382-b3d0-e78f7817aba9",
   "metadata": {},
   "outputs": [],
   "source": []
  }
 ],
 "metadata": {
  "kernelspec": {
   "display_name": "Python 3 (ipykernel)",
   "language": "python",
   "name": "python3"
  },
  "language_info": {
   "codemirror_mode": {
    "name": "ipython",
    "version": 3
   },
   "file_extension": ".py",
   "mimetype": "text/x-python",
   "name": "python",
   "nbconvert_exporter": "python",
   "pygments_lexer": "ipython3",
   "version": "3.12.7"
  }
 },
 "nbformat": 4,
 "nbformat_minor": 5
}
