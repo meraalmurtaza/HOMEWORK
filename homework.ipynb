{
 "cells": [
  {
   "cell_type": "markdown",
   "id": "03e261bf-8d0f-42ed-91c9-ac96e9b8da16",
   "metadata": {},
   "source": [
    "# HOMEWORK"
   ]
  },
  {
   "cell_type": "code",
   "execution_count": 1,
   "id": "c0808fe5-19ec-479c-9415-b7f3d48f0966",
   "metadata": {},
   "outputs": [],
   "source": [
    "a=10\n",
    "b=2"
   ]
  },
  {
   "cell_type": "code",
   "execution_count": 2,
   "id": "9353e3a1-4236-48d2-a3a2-f9aa85fbaf6b",
   "metadata": {},
   "outputs": [
    {
     "data": {
      "text/plain": [
       "12"
      ]
     },
     "execution_count": 2,
     "metadata": {},
     "output_type": "execute_result"
    }
   ],
   "source": [
    "a+b"
   ]
  },
  {
   "cell_type": "code",
   "execution_count": 3,
   "id": "3fb61237-de2b-4557-a291-81dbd46da139",
   "metadata": {},
   "outputs": [
    {
     "data": {
      "text/plain": [
       "8"
      ]
     },
     "execution_count": 3,
     "metadata": {},
     "output_type": "execute_result"
    }
   ],
   "source": [
    "a-b"
   ]
  },
  {
   "cell_type": "code",
   "execution_count": 4,
   "id": "c65ae64b-19b4-449a-b1db-a6478f2e8501",
   "metadata": {},
   "outputs": [
    {
     "data": {
      "text/plain": [
       "5.0"
      ]
     },
     "execution_count": 4,
     "metadata": {},
     "output_type": "execute_result"
    }
   ],
   "source": [
    "a/b"
   ]
  },
  {
   "cell_type": "code",
   "execution_count": 5,
   "id": "e8f2be04-8b17-4034-8ba6-f722450624bb",
   "metadata": {},
   "outputs": [
    {
     "data": {
      "text/plain": [
       "20"
      ]
     },
     "execution_count": 5,
     "metadata": {},
     "output_type": "execute_result"
    }
   ],
   "source": [
    "a*b"
   ]
  },
  {
   "cell_type": "code",
   "execution_count": 11,
   "id": "0670291e-6de5-45f0-a8f4-220a272c4ca9",
   "metadata": {},
   "outputs": [
    {
     "name": "stdout",
     "output_type": "stream",
     "text": [
      "12\n"
     ]
    }
   ],
   "source": [
    "x=12.25\n",
    "y=int(x)\n",
    "print(y)"
   ]
  },
  {
   "cell_type": "code",
   "execution_count": 13,
   "id": "8c4f2764-56d0-4c72-8e0c-43ea49926cd2",
   "metadata": {},
   "outputs": [
    {
     "name": "stdout",
     "output_type": "stream",
     "text": [
      "10.0\n"
     ]
    }
   ],
   "source": [
    "a=10\n",
    "b=float(a)\n",
    "print(b)"
   ]
  },
  {
   "cell_type": "code",
   "execution_count": 20,
   "id": "faca50bd-51c3-4e86-b7af-2f790ce0bb56",
   "metadata": {},
   "outputs": [
    {
     "name": "stdout",
     "output_type": "stream",
     "text": [
      "12.25\n"
     ]
    }
   ],
   "source": [
    "x=12.25\n",
    "y=str(x)\n",
    "print(y)"
   ]
  },
  {
   "cell_type": "code",
   "execution_count": 23,
   "id": "fa7638e2-b816-4d77-acd6-268b2de16ed1",
   "metadata": {},
   "outputs": [
    {
     "name": "stdout",
     "output_type": "stream",
     "text": [
      "first fruit: apple\n",
      "last fruit: orange\n",
      "fourth fruit: coconut\n"
     ]
    }
   ],
   "source": [
    "fruits=[\"apple\", \"banana\",\"cherry\",\"coconut\",\"pineapple\",\"mango\",\"orange\"] \n",
    "print(\"first fruit:\", fruits[0])\n",
    "print(\"last fruit:\", fruits[-1])\n",
    "print(\"fourth fruit:\", fruits[3])"
   ]
  },
  {
   "cell_type": "code",
   "execution_count": 24,
   "id": "9fe3a01c-e425-4015-8da5-99c8223331b2",
   "metadata": {},
   "outputs": [
    {
     "name": "stdout",
     "output_type": "stream",
     "text": [
      "First three elements: [10, 20, 30]\n",
      "Last two elements: [40, 50]\n",
      "All except first: [20, 30, 40, 50]\n",
      "All except last: [10, 20, 30, 40]\n",
      "Reversed list: [50, 40, 30, 20, 10]\n",
      "Every second element: [10, 30, 50]\n"
     ]
    }
   ],
   "source": [
    "numbers = [10, 20, 30, 40, 50]\n",
    "\n",
    "print(\"First three elements:\", numbers[:3])\n",
    "print(\"Last two elements:\", numbers[-2:])\n",
    "print(\"All except first:\", numbers[1:])\n",
    "print(\"All except last:\", numbers[:-1])\n",
    "print(\"Reversed list:\", numbers[::-1])\n",
    "print(\"Every second element:\", numbers[::2])"
   ]
  },
  {
   "cell_type": "code",
   "execution_count": 25,
   "id": "5641221f-6af2-41a9-a772-dfea3a0ff746",
   "metadata": {},
   "outputs": [
    {
     "name": "stdout",
     "output_type": "stream",
     "text": [
      "Item 'biryani' not found in order.\n",
      "Final order: ['burger', 'fries', 'coke', 'ice cream']\n"
     ]
    }
   ],
   "source": [
    "# Initial order\n",
    "order = [\"burger\", \"fries\", \"coke\"]\n",
    "\n",
    "# Add \"ice cream\" to the order\n",
    "order.append(\"ice cream\")\n",
    "\n",
    "# Try to remove \"biryani\" (this will cause an error if not in the list)\n",
    "# Let's check first to avoid error\n",
    "if \"biryani\" in order:\n",
    "    order.remove(\"biryani\")\n",
    "else:\n",
    "    print(\"Item 'biryani' not found in order.\")\n",
    "\n",
    "# Show the final order\n",
    "print(\"Final order:\", order)"
   ]
  },
  {
   "cell_type": "code",
   "execution_count": 26,
   "id": "412b8a86-1cb9-4150-b72e-2fb03a60757d",
   "metadata": {},
   "outputs": [
    {
     "name": "stdout",
     "output_type": "stream",
     "text": [
      "Final passenger list (entered first to last): ['Ahmed', 'Sara', 'Ali']\n"
     ]
    }
   ],
   "source": [
    "# Initial passengers\n",
    "passengers = [\"Ali\", \"Zara\", \"Ahmed\"]\n",
    "\n",
    "# Insert \"Sara\" at position 2 (index 2)\n",
    "passengers.insert(2, \"Sara\")\n",
    "\n",
    "# Remove \"Zara\"\n",
    "if \"Zara\" in passengers:\n",
    "    passengers.remove(\"Zara\")\n",
    "else:\n",
    "    print(\"Zara not found in list.\")\n",
    "\n",
    "# Reverse the order to show who entered first\n",
    "passengers.reverse()\n",
    "\n",
    "# Show final passenger list\n",
    "print(\"Final passenger list (entered first to last):\", passengers)"
   ]
  },
  {
   "cell_type": "code",
   "execution_count": null,
   "id": "60a3c5ad-382e-4a52-805e-8e0de00c7c25",
   "metadata": {},
   "outputs": [],
   "source": []
  }
 ],
 "metadata": {
  "kernelspec": {
   "display_name": "Python 3 (ipykernel)",
   "language": "python",
   "name": "python3"
  },
  "language_info": {
   "codemirror_mode": {
    "name": "ipython",
    "version": 3
   },
   "file_extension": ".py",
   "mimetype": "text/x-python",
   "name": "python",
   "nbconvert_exporter": "python",
   "pygments_lexer": "ipython3",
   "version": "3.12.7"
  }
 },
 "nbformat": 4,
 "nbformat_minor": 5
}
